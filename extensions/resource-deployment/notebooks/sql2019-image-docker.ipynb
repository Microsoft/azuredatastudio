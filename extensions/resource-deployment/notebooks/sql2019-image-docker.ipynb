﻿{
    "metadata": {
        "kernelspec": {
            "name": "python3",
            "display_name": "Python 3"
        },
        "language_info": {
            "name": "python",
            "version": "3.6.6",
            "mimetype": "text/x-python",
            "codemirror_mode": {
                "name": "ipython",
                "version": 3
            },
            "pygments_lexer": "ipython3",
            "nbconvert_exporter": "python",
            "file_extension": ".py"
        }
    },
    "nbformat_minor": 2,
    "nbformat": 4,
    "cells": [
        {
            "cell_type": "markdown",
            "source": "First, pull the Microsoft SQL Server 2019 Image",
            "metadata": {}
        },
        {
            "cell_type": "code",
            "source": "cmd = f'docker pull mcr.microsoft.com/mssql/server:2019-latest'\r\n!{cmd}",
            "metadata": {},
            "outputs": [
                {
                    "name": "stdout",
                    "text": "2017-latest: Pulling from mssql/server\nDigest: sha256:39554141d307f2d40d2abfc54e3a0eea3aa527e58f616496c6f3ed3245a2e2b1\nStatus: Image is up to date for mcr.microsoft.com/mssql/server:2019-latest\n",
                    "output_type": "stream"
                }
            ],
            "execution_count": 49
        },
        {
            "cell_type": "markdown",
            "source": "List all the containers",
            "metadata": {}
        },
        {
            "cell_type": "code",
            "source": "cmd = f'docker ps -a'\r\n!{cmd}",
            "metadata": {},
            "outputs": [
                {
                    "name": "stdout",
                    "text": "CONTAINER ID        IMAGE               COMMAND             CREATED             STATUS              PORTS               NAMES\n",
                    "output_type": "stream"
                }
            ],
            "execution_count": 50
        },
        {
            "cell_type": "markdown",
            "source": "Start a new container with SQL Server 2019",
            "metadata": {}
        },
        {
            "cell_type": "code",
            "source": "import time\r\n\r\ncontainer_name = 'sql2019-' + time.strftime(\"%Y%m%d%H%M%S\", time.localtime())\r\nprint('New container name: ' + container_name)\r\n\r\nsql_port = 1433\r\nsa_password = \"<YourStrong!Passw0rd>\"\r\n\r\ncmd = f'docker run -e ACCEPT_EULA=Y -e \"SA_PASSWORD={sa_password}\" -p {sql_port}:{sql_port} --name {container_name} -d mcr.microsoft.com/mssql/server:2019-latest'\r\nprint(cmd)\r\n!{cmd}",
            "metadata": {},
            "outputs": [
                {
                    "name": "stdout",
                    "text": "New container name: sql2019-20190510145505\ndocker run -e ACCEPT_EULA=Y -e \"SA_PASSWORD=<YourStrong!Passw0rd>\" -p 1433:1433 --name sql2019-20190510145505 -d mcr.microsoft.com/mssql/server:2019-latest\n",
                    "output_type": "stream"
                },
                {
                    "name": "stdout",
                    "text": "ec7ad35943bdb5e08586c908a538a0b969ccd952dc0bf8dec1b80c6aeaa278fe\n",
                    "output_type": "stream"
                }
            ],
            "execution_count": 51
        },
        {
            "cell_type": "markdown",
            "source": "List all the containers",
            "metadata": {}
        },
        {
            "cell_type": "code",
            "source": "cmd = f'docker ps -a'\r\n!{cmd}",
            "metadata": {},
            "outputs": [
                {
                    "name": "stdout",
                    "text": "CONTAINER ID        IMAGE                                        COMMAND                  CREATED             STATUS                  PORTS                    NAMES\nec7ad35943bd        mcr.microsoft.com/mssql/server:2017-latest   \"/opt/mssql/bin/sqlsâ€¦\"   3 seconds ago       Up Less than a second   0.0.0.0:1433->1433/tcp   sql2017-20190510145505\n",
                    "output_type": "stream"
                }
            ],
            "execution_count": 48
        }
    ]
}