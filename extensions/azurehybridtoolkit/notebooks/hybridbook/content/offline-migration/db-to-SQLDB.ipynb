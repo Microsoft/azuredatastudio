{
    "metadata": {
        "kernelspec": {
            "name": "powershell",
            "display_name": "PowerShell",
            "language": "powershell"
        },
        "language_info": {
            "name": "powershell",
            "codemirror_mode": "shell",
            "mimetype": "text/x-sh",
            "file_extension": ".ps1"
        }
    },
    "nbformat_minor": 2,
    "nbformat": 4,
    "cells": [
        {
            "cell_type": "markdown",
            "source": [
                "# Migrate SQL Server Database to Azure SQL DB\n",
                "\n",
                "## Overview\n",
                "\n",
                "Use this notebook when attempting to migrate a SQL Server database to Azure SQL Database. The process is different than using an Azure SQL Virtual Machine or Azure SQL Managed Instance. Refer to this [Microsoft docs](https://docs.microsoft.com/en-us/azure/dms/howto-sql-server-to-azure-sql-powershell) article for the method described. \n",
                "\n",
                "## Variables\n",
                "Use the table below as reference when configuring this notebook for execution. \n",
                "\n",
                "| Line | Variable | Description | Example \n",
                "| --- | --- | --- | --- \n",
                "|  | Subscription | Azure subscription name or ID | guid \n",
                "|  | ResourceGroup | Exact name of resource group to target or create | *MyAz_RG* \n",
                "|  | Location |  |  |\n",
                "|  | StorageName |  |  |\n",
                "|  | StorageSKU |  |  |\n",
                "|  | ServiceName | Service name for the DMS instance | *MyDMS* \n",
                "|  | ProjectName | Name of Azure Database Migration Service project in which to create the task.\n",
                "|  | TaskType | Type of migration task to create for SQL Server to Azure SQL Database migration type MigrateSqlServerSqlDb is expected.\n",
                "|  | TaskName | Name of task to be created. | *MigrationTask*"
            ],
            "metadata": {
                "azdata_cell_guid": "f706da59-22c3-4317-bf41-c00dde794097"
            }
        },
        {
            "cell_type": "code",
            "source": [
                "$Subscription = \"\"\r\n",
                "$ResourceGroup = \"\"\r\n",
                "$Location = \"\"\r\n",
                "$StorageName = \"\"\r\n",
                "$StorageSKU = \"\"\r\n",
                "$DmsServiceName = \"\"\r\n",
                "$ProjectName = \"\"\r\n",
                "$TaskType = \"\"\r\n",
                "$TaskName = \"\""
            ],
            "metadata": {
                "azdata_cell_guid": "2624afc0-2403-4d42-ad88-6adcfe1a5c2b"
            },
            "outputs": [],
            "execution_count": null
        },
        {
            "cell_type": "markdown",
            "source": [
                "## Steps\n",
                "\n",
                "1. Use the Assessment Notebooks to scan the SQL Instance to be migrated and to prepare for database migration\n",
                "2. Fix issues based on the assessments and continue to scan for issues until a clean assessment is made. This may take several hours, days, or even months depending on the size and complexity of the data; so plan accordingly.\n",
                "3. Create a local backup directory according to the [Create SQL Backups Notebook](.\\create-sql-backups.ipynb)\n",
                "4. Specify the backup directory and other variables for this notebook\n",
                "5. Run the cells below to migrate bacpac backup files in the backup folder to SQL Azure Database"
            ],
            "metadata": {
                "azdata_cell_guid": "67e288c6-63df-475e-9cad-bab323d30c4e"
            }
        }
    ]
}