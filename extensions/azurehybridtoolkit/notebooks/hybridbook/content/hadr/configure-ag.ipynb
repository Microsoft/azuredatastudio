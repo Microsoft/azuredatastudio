{
    "metadata": {
        "kernelspec": {
            "name": "powershell",
            "display_name": "PowerShell",
            "language": "powershell"
        },
        "language_info": {
            "name": "powershell",
            "codemirror_mode": "shell",
            "mimetype": "text/x-sh",
            "file_extension": ".ps1"
        }
    },
    "nbformat_minor": 2,
    "nbformat": 4,
    "cells": [
        {
            "cell_type": "markdown",
            "source": [
                "# Create and configure Availability Group\n",
                "\n",
                "## Description\n",
                "\n",
                "Notebook to walk through creating an Availability Group via PowerShell commands"
            ],
            "metadata": {
                "azdata_cell_guid": "ff486dfd-93d4-4a5d-8985-6a352b87ad5e"
            }
        },
        {
            "cell_type": "markdown",
            "source": [
                "Note: before running the steps below, make sure that the following requirements have been satisfied:\n",
                "\n",
                "- Verify host instances of SQL Server each resides on a different node of a single failover cluster.\n",
                "- Verify server instances met the other server-instance prerequisites.\n",
                "- All the other Always On availability groups requirements are met and that all recommendations are considered.\n",
                "- Primary server must have at least one user made database in order to create secondary replicas.\n",
                "- Domain account must have sysadmin fixed server role, andeither CREATE AVAILABILITY GROUP server permission, ALTER ANY AVAILABILITY GROUP permission, or CONTROL SERVER permission.\n",
                "\n",
                "For more information on Always On Prerequisites see [here](https://docs.microsoft.com/sql/database-engine/availability-groups/windows/prereqs-restrictions-recommendations-always-on-availability?view=sql-server-ver15).\n",
                "\n",
                "SQL Server Failover Cluster Instances (FCI) do not support automatic failover by availability groups, so any availability replica hosted by an FCI can only be configured for manual failover. Here is a listing of variables that will be used to create the availability group:\n",
                "\n",
                "| Line # | Name | Example | Description |\n",
                "| --- | --- | --- | --- |\n",
                "| 1 | **ResourceGroupName** | \"TestRG1\" | Name of existing resource group (RG) hosting the Availability Group. An Azure Resource Group is a collection of Azure resources that share the same permissions, policies, etc. |\n",
                "| 9 | **SqlVmName** | \"Server1\" | Name of the first (primary) SQL server replica added on the domain and used in cluster creation as shown in the previous notebook. |\n",
                "| 2 | **Instance** | \"sqlvmname\\\\MSSQLSERVER\" | Name of the instance hosted on the primary server. If unnamed, by default it is \"MSSQLSERVER\". Include the SQLVM name as part of the path. |\n",
                "| 3 | **DatabaseNames** | \"MyDatabase\" | Names of user made databases hosted on the primary server. Databases must not end with AUTO\\_CLOSE, cannot be in another availability group, and cannot be configured for database mirroring. |\n",
                "| 5 | **EndpointURL** | \"TCP://PrimaryComputer.domain.com:5022\" | Endpoint URL for a node in the cluster, used to listen for Always On availability group messages from Availability Replicas hosted by other server instances. |\n",
                "| 6 | **PrimaryBackupFile** | \"\\\\share\\\\backups\\\\MyDatabase.bak\" | Backup of a database located on the primary replica, used for restore on secondary replica. |\n",
                "| 7 | **PrimaryBackupLog** | \"\\\\share\\\\backups\\\\MyDatabase.log\" | Transaction log of a database located on the primary replica, used for restore on secondary replica. |"
            ],
            "metadata": {
                "azdata_cell_guid": "1ec5da17-225c-4161-95a9-846ba3fbda57"
            }
        },
        {
            "cell_type": "code",
            "source": [
                "#Set Parameters\r\n",
                "\r\n",
                "$ResourceGroupName = \"\"       # Name of resource group.\r\n",
                "$SqlVmName = \"\"               # Name of the primary SQL server VM.\r\n",
                "$Instance = \"\"                # Name of the instance hosted on the primary server along with SQLVM Name.\r\n",
                "$DatabaseNames = \"\"           # List of databases to include in the primary replica, in brackets, separated by commas.\r\n",
                "$EndpointURL = \"TCP://<computer domain address>:5022\"             # Endpoint URL of the primary replica.\r\n",
                "$PrimaryBackupFile = \"\"         # Backup of the primary database located on '\\\\share\\backups\\' with a file extension '.bak'\r\n",
                "$PrimaryBackupLog = \"\"        # Transaction log of the primary database located on '\\\\share\\backups\\' with a file extension '.log'\r\n",
                ""
            ],
            "metadata": {
                "azdata_cell_guid": "4dd15d1c-29fe-44e9-bb1b-7191ec4676ea",
                "tags": []
            },
            "outputs": [
                {
                    "output_type": "stream",
                    "name": "stdout",
                    "text": ""
                }
            ],
            "execution_count": 2
        },
        {
            "cell_type": "markdown",
            "source": [
                "### **Install SQLServer Module**\n",
                "\n",
                "### <span style=\"font-size: 14px;\">This module is required to run the commands below.</span>"
            ],
            "metadata": {
                "azdata_cell_guid": "abb93904-a184-4126-b150-e72790e7476a"
            }
        },
        {
            "cell_type": "code",
            "source": [
                "#Creating temporary file to store Install Module command\r\n",
                "echo \"[Net.ServicePointManager]::SecurityProtocol = [Net.SecurityProtocolType]::Tls12\" >> InstallModuleCommand.ps1\r\n",
                "echo \"Install-PackageProvider -Name NuGet -Force\" >> InstallModuleCommand.ps1\r\n",
                "echo \"Install-Module -Name SqlServer -AllowClobber -Force\" >> InstallModuleCommand.ps1\r\n",
                "\r\n",
                "#Running command on SQL VM\r\n",
                "$run = Invoke-AzVMRunCommand -ResourceGroupName $ResourceGroupName -VMName $SqlVmName -CommandId \"RunPowerShellScript\" -ScriptPath \"InstallModuleCommand.ps1\"\r\n",
                "Write-Output $run\r\n",
                "\r\n",
                "#Deleting Test-Cluster temporary file.\r\n",
                "if (Test-Path \"InstallModuleCommand.ps1\") {\r\n",
                "    Remove-Item \"InstallModuleCommand.ps1\"\r\n",
                "}"
            ],
            "metadata": {
                "azdata_cell_guid": "44d71a3e-937b-4d7f-b77b-03dbc063d6b0",
                "tags": []
            },
            "outputs": [],
            "execution_count": null
        },
        {
            "cell_type": "markdown",
            "source": [
                "### **Create in-memory representation of the primary replica. (To be added)**"
            ],
            "metadata": {
                "azdata_cell_guid": "5e4f50b8-2762-44b5-9cb3-9e1c2b20be81"
            }
        },
        {
            "cell_type": "code",
            "source": [
                "# To be added. "
            ],
            "metadata": {
                "azdata_cell_guid": "d203ace2-52ab-400f-8f3c-121cebaf45c3"
            },
            "outputs": [],
            "execution_count": null
        }
    ]
}
