{
    "metadata": {
        "kernelspec": {
            "name": "powershell",
            "display_name": "PowerShell",
            "language": "powershell"
        },
        "language_info": {
            "name": "powershell",
            "codemirror_mode": "shell",
            "mimetype": "text/x-sh",
            "file_extension": ".ps1"
        }
    },
    "nbformat_minor": 2,
    "nbformat": 4,
    "cells": [
        {
            "cell_type": "markdown",
            "source": [
                "Create Failover Cluster\n",
                "==================================\n",
                "\n",
                "Description\n",
                "-----------\n",
                "\n",
                "Notebook to walk through creating a failover cluster on on-premises SQL Server Database."
            ],
            "metadata": {
                "azdata_cell_guid": "6af59d69-ade7-480a-b33e-52a86fe5bfd3"
            }
        },
        {
            "cell_type": "markdown",
            "source": [
                "Note: before running the steps below, make sure you have the following:\n",
                "\n",
                "- A resource group with a domain controller.\n",
                "- One or more domain joined VMs in Azure running SQL Server 2016 (or later) in the _same_ availability set or _different_ availability zones that have been registered with the SQL IaaS Agent extension\n",
                "- Domain joined VMs must have either a "Developer" or "Enterprise" image SKU to create a cluster in this notebook\n",
                "\n",
                "Steps of this procedure include:\n",
                "\n",
                "1. Connect to Azure subscription\n",
                "2. Provision resource group for SQL VM migration\n",
                "3. Create a storage account\n",
                "4. Define cluster metadata\n",
                "5. Add VMs to the cluster\n",
                "6. Validate cluster"
            ],
            "metadata": {
                "azdata_cell_guid": "b911ea4f-a3d8-4ac1-bff6-6c5eb1b514f9"
            }
        },
        {
            "cell_type": "code",
            "source": [
                "#Set Parameters\r\n",
                "$ClusterName = \"\"                        # The name of the SQL VM Cluster.\r\n",
                "$SqlVm1Name = \"\"                         # The name of the first SQL VM.\r\n",
                "$SqlVm2Name = \"\"                         # The name of the second SQL VM.\r\n",
                "$Location = \"\"                           # Specify the valid Location such as 'West US 2','EASTUS' etc...\r\n",
                "$PublisherName = \"\"                      # Name of Publisher, Default would be 'MicrosoftSQLServer'\r\n",
                "$ResourceGroupName = \"\"                      # Resource group name(It should be of alphabets case insensitive)\r\n",
                "$SkuName = \"\"                            # Specify the valid SKU...Such as 'Standard_LRS'\r\n",
                "$StorageAccountName = \"\"                 # Name of Storage Account used for cloud witness.\r\n",
                "\r\n",
                "#Add VMs to the cluster\r\n",
                "$OperatorAccountPassword = \"\"            # Password for Operator Account\r\n",
                "$ServiceAccountPassword = \"\"             # Password for Service Account\r\n",
                "$BootstrapAccountPassword = \"\"           # Password for Bootstrap Account\r\n",
                "\r\n",
                "#Define Cluster Media\r\n",
                "$FQDN = \"www.microsoft.com\"              # Domain name, such as www.microsoft.com.\r\n",
                "$OperatorAccount = \"\"                    # Domain account for Operator\r\n",
                "$BootstrapAccount = \"\"                   # Domain account for Bootstrap\r\n",
                "$ServiceAccount = \"\"                     # Service account\r\n",
                "\r\n",
                "$SqlPath = \"sqlserver:\\sql\\$($env:COMPUTERNAME)\"      #This script will generate Sql Path"
            ],
            "metadata": {
                "azdata_cell_guid": "7ad525ec-4993-4e14-9677-4f77433b2123"
            },
            "outputs": [],
            "execution_count": null
        },
        {
            "cell_type": "markdown",
            "source": [
                "### <b>Sign in to Azure </b>\r\n",
                "Sign in to your Azure Subscription with the _Connect-AzAccount_ command and follow the on-screen directions."
            ],
            "metadata": {
                "azdata_cell_guid": "5dd9519d-3957-46ef-8988-440a043535b2"
            }
        },
        {
            "cell_type": "code",
            "source": [
                "Connect-AzAccount"
            ],
            "metadata": {
                "azdata_cell_guid": "18c920f2-a19a-49d6-9766-2d7539f6fe43"
            },
            "outputs": [],
            "execution_count": null
        },
        {
            "cell_type": "markdown",
            "source": [
                "### <b>Get Subscription</b>\r\n",
                "Below command will open a _**Dialouge Box**_ with list of subscriptions. Selecting one of those will set that Subscription for rest of the commands."
            ],
            "metadata": {
                "azdata_cell_guid": "cc6cb8c6-76b7-41a0-ab26-7713e72c2f7d"
            }
        },
        {
            "cell_type": "code",
            "source": [
                "$Subscription = Get-AzSubscription | Out-GridView -PassThru\r\n",
                "Set-AzContext -SubscriptionName $Subscription"
            ],
            "metadata": {
                "azdata_cell_guid": "741c35fa-7923-4200-8c3a-497d62b4ae66"
            },
            "outputs": [],
            "execution_count": null
        },
        {
            "cell_type": "markdown",
            "source": [
                "_If you don't know which Location you want to use, you can list the available Locations. Display the list of Locations by using the following code example and find the one you want to use. This example uses eastus. Store the Location in a variable and use the variable so you can change it in one place._"
            ],
            "metadata": {
                "azdata_cell_guid": "57de9eb7-a20b-4e9c-bf7b-ed6f2a838bee"
            }
        },
        {
            "cell_type": "code",
            "source": [
                "Get-AzLocation | select Location\r\n",
                "$Location"
            ],
            "metadata": {
                "azdata_cell_guid": "6b0ea659-6dcd-48e1-a0d3-47b4a3ea9d66"
            },
            "outputs": [],
            "execution_count": null
        },
        {
            "cell_type": "markdown",
            "source": [
                "\r\n",
                "### <b>Create a resource group</b>\r\n",
                "Create an Azure resource group with _New-AzResourceGroup_. A resource group is a logical container into which Azure resources are deployed and managed."
            ],
            "metadata": {
                "azdata_cell_guid": "455a6002-e5d5-4cb0-9146-8d417917c751"
            }
        },
        {
            "cell_type": "code",
            "source": [
                "# Create Azure resource group, if necessary\r\n",
                "$ResourceGroup = Get-AzResourceGroup -Name $ResourceGroupName\r\n",
                "\r\n",
                "if (!$ResourceGroup)\r\n",
                "{\r\n",
                "    # Need to create a new resource group\r\n",
                "    Write-Output \"Resource Group $ResourceGroupName does not exist. Creating...\"\r\n",
                "    $ResourceGroup = New-AzResourceGroup -Name $ResourceGroupName -Location $Location\r\n",
                "}"
            ],
            "metadata": {
                "azdata_cell_guid": "d48948e1-3136-4e42-91e7-77a3301ae97d"
            },
            "outputs": [],
            "execution_count": null
        },
        {
            "cell_type": "markdown",
            "source": [
                "### <b>Create a storage account</b>\r\n",
                "Create a standard, general-purpose storage account with LRS replication by using _New-AzStorageAccount_. Next, get the storage account context that defines the storage account you want to use. When acting on a storage account, reference the context instead of repeatedly passing in the credentials. Use the following example to create a storage account called storageaccountazure with locally redundant storage (LRS) and blob encryption (enabled by default)."
            ],
            "metadata": {
                "azdata_cell_guid": "246d062f-e7d1-4f42-ba9f-153a12a286e4"
            }
        },
        {
            "cell_type": "code",
            "source": [
                "$StorageAccount = New-AzStorageAccount -ResourceGroupName $ResourceGroupName -Name $StorageAccountName `\r\n",
                "    -SkuName $SkuName -Location $Location -Kind StorageV2 `\r\n",
                "    -AccessTier Hot -EnableHttpsTrafficOnly $true\r\n",
                "\r\n",
                "$Ctx = $StorageAccount.Context"
            ],
            "metadata": {
                "azdata_cell_guid": "17e3421b-a80a-455c-bd6a-25daaff46514"
            },
            "outputs": [],
            "execution_count": null
        },
        {
            "cell_type": "markdown",
            "source": [
                "### <b>Create a container</b>\r\n",
                "Blobs are always uploaded into a container. You can organize groups of blobs like the way you organize your files on your computer in folders.\r\n",
                "Set the container name, then create the container by using _New-AzStorageContainer_. Set the permissions to blob to allow public access of the files. The container name in this example is quickstartblobs."
            ],
            "metadata": {
                "azdata_cell_guid": "82503754-84ea-47b7-bcaf-31e5012da008"
            }
        },
        {
            "cell_type": "code",
            "source": [
                "$ContainerName = \"quickstartblobs\"\r\n",
                "New-AzStorageContainer -Name $ContainerName -Context $Ctx -Permission blob"
            ],
            "metadata": {
                "azdata_cell_guid": "c4557040-5ff7-4f31-9243-01b850270b90",
                "tags": []
            },
            "outputs": [],
            "execution_count": null
        },
        {
            "cell_type": "markdown",
            "source": [
                "### <b>Get Azure Storage Acount Key</b>\r\n",
                "This script will get the key for Storage Account which is been created."
            ],
            "metadata": {
                "azdata_cell_guid": "f48b23bf-01bc-48df-afed-ad3eea69c41d"
            }
        },
        {
            "cell_type": "code",
            "source": [
                "$StorageAccountKey = `\r\n",
                "    (Get-AzStorageAccountKey `\r\n",
                "    -ResourceGroupName $ResourceGroupName `\r\n",
                "    -Name $StorageAccountName).Value[0]"
            ],
            "metadata": {
                "azdata_cell_guid": "e450bc4a-3373-4c7e-b0d0-f334712298b2",
                "tags": []
            },
            "outputs": [],
            "execution_count": null
        },
        {
            "cell_type": "markdown",
            "source": [
                "### <b>Get Azure Storage Container Uri</b>\r\n",
                "The following script can be used to get the Uri of Storage container."
            ],
            "metadata": {
                "azdata_cell_guid": "5f7e616b-1e9f-4640-b61f-78d4327c5562"
            }
        },
        {
            "cell_type": "code",
            "source": [
                "    $StorageUri = (Get-AzStorageAccount -ResourceGroupName $ResourceGroupName -Name $StorageAccountName | Get-AzStorageContainer | Where-Object { $_.Name -eq $AzureContainerName }).CloudBlobContainer.Uri.AbsoluteUri "
            ],
            "metadata": {
                "azdata_cell_guid": "615d8e6e-2cbf-4001-8da0-1826185a06bf"
            },
            "outputs": [],
            "execution_count": null
        },
        {
            "cell_type": "markdown",
            "source": [
                "### **Azure SQL VM Offers**\n",
                "\n",
                "Run the following command to get updated list of offers for Microsoft SQL Server in your location. These settings can be used for the OfferName associated with this migration. Configure it for your purposes.\n",
                "\n",
                "Note that the SQL Version is first then appended with an operating system version. E.g.: \"WS2019\" means Windows Server 2019. Along with various versions of Windows Servers, there are also enterprise Linux versions such as RedHat Enterprise, Suse Enterprise, and Ubuntu. Some versions are BYOL (Bring Your Own License) aka [Hybrid Benefit](https://azure.microsoft.com/en-us/pricing/hybrid-benefit/)."
            ],
            "metadata": {
                "azdata_cell_guid": "c17d224e-e514-4dfd-b181-06d2cde378e4"
            }
        },
        {
            "cell_type": "code",
            "source": [
                "$Offer = Get-AzVMImageOffer -Location $Location -Publisher $PublisherName | Select Offer"
            ],
            "metadata": {
                "azdata_cell_guid": "6b2fa291-43cb-4619-a010-3a373dababcc"
            },
            "outputs": [],
            "execution_count": null
        },
        {
            "cell_type": "markdown",
            "source": [
                "### **Define cluster metadata**\n",
                "\n",
                "The following script is used to define the metadata for Windows Server Failover Cluster so that when the first SQL Server VM is added, the cluster is created as defined."
            ],
            "metadata": {
                "azdata_cell_guid": "000a1320-fecf-4e0b-8d1f-00ab39fc44ce"
            }
        },
        {
            "cell_type": "code",
            "source": [
                "$StorageAccountUrl = \"https://$StorageAccountName.blob.core.windows.net/\"\r\n",
                "$SecureSAKey = ConvertTo-SecureString $StorageAccountKey -AsPlainText -Force\r\n",
                "\r\n",
                "$group = New-AzSqlVMGroup -Name $ClusterName -Location $Location `\r\n",
                "  -ResourceGroupName $ResourceGroupName -Offer \"SQL2016-WS2016\" `\r\n",
                "  -Sku Enterprise -DomainFqdn $FQDN -ClusterOperatorAccount $OperatorAccount `\r\n",
                "  -ClusterBootstrapAccount $BootstrapAccount  -SqlServiceAccount $ServiceAccount `\r\n",
                "  -StorageAccountUrl $StorageAccountUrl `\r\n",
                "  -StorageAccountPrimaryKey $SecureSAKey"
            ],
            "metadata": {
                "azdata_cell_guid": "f59b2416-a41f-43c0-85ea-1e113e6f4221",
                "tags": []
            },
            "outputs": [],
            "execution_count": null
        },
        {
            "cell_type": "markdown",
            "source": [
                "### **Add VMs to the cluster**\n",
                "\n",
                "Adding the first SQL Server VM to the cluster creates the cluster. The <mark>Update-AzSqlVM</mark> command creates the cluster with the name previously given, installs the cluster role on the SQL Server VMs, and adds them to the cluster. Subsequent uses of the command adds more SQL Server VMs to the newly created cluster."
            ],
            "metadata": {
                "azdata_cell_guid": "cca91ca6-bf10-4e32-9b4f-80133049c1b5"
            }
        },
        {
            "cell_type": "code",
            "source": [
                "$sqlvm1 = Get-AzSqlVM -Name $SqlVm1Name -ResourceGroupName $ResourceGroupName\r\n",
                "$sqlvm2 = Get-AzSqlVM -Name $SqlVm2Name -ResourceGroupName $ResourceGroupName\r\n",
                "$SecureOAPassword = ConvertTo-SecureString $OperatorAccountPassword -AsPlainText -Force\r\n",
                "$SecureSAPassword = ConvertTo-SecureString $ServiceAccountPassword -AsPlainText -Force\r\n",
                "$SecureBAPassword = ConvertTo-SecureString $BootstrapAccountPassword -AsPlainText -Force\r\n",
                "\r\n",
                "$sqlvmconfig1 = Set-AzSqlVMConfigGroup -SqlVM $sqlvm1 `\r\n",
                "   -SqlVMGroup $group -ClusterOperatorAccountPassword $SecureOAPassword `\r\n",
                "   -SqlServiceAccountPassword $SecureSAPassword `\r\n",
                "   -ClusterBootstrapAccountPassword $SecureBAPassword\r\n",
                "\r\n",
                "Update-AzSqlVM -ResourceId $sqlvm1.ResourceId -SqlVM $sqlvmconfig1\r\n",
                "\r\n",
                "$sqlvmconfig2 = Set-AzSqlVMConfigGroup -SqlVM $sqlvm2 `\r\n",
                "   -SqlVMGroup $group -ClusterOperatorAccountPassword $SecureOAPassword `\r\n",
                "   -SqlServiceAccountPassword $SecureSAPassword `\r\n",
                "   -ClusterBootstrapAccountPassword $SecureBAPassword\r\n",
                "\r\n",
                "Update-AzSqlVM -ResourceId $sqlvm2.ResourceId -SqlVM $sqlvmconfig2"
            ],
            "metadata": {
                "azdata_cell_guid": "9b21ab69-5be2-4d09-ac4b-3d43521a1188",
                "tags": []
            },
            "outputs": [],
            "execution_count": null
        },
        {
            "cell_type": "markdown",
            "source": [
                "### **Validate cluster**\n",
                "\n",
                "For a failover cluster to be supported by Microsoft, it must pass cluster validation. Failure to do so leaves your cluster in an unsupported state."
            ],
            "metadata": {
                "azdata_cell_guid": "63b41df3-6fe6-421e-9587-e5d65a0a5592"
            }
        },
        {
            "cell_type": "code",
            "source": [
                "Test-Cluster –Node ($SqlVm1Name,$SqlVm2Name) –Include \"Inventory\", \"Network\", \"System Configuration\""
            ],
            "metadata": {
                "azdata_cell_guid": "e195e874-6178-4f87-b5e8-94524cbc6ea1"
            },
            "outputs": [],
            "execution_count": null
        }
    ]
}